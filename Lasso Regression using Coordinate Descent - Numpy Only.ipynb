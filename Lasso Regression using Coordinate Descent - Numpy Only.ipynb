{
 "cells": [
  {
   "cell_type": "markdown",
   "metadata": {},
   "source": [
    "# Lasso Regression w/ Coordinate Descent from scratch using Numpy"
   ]
  },
  {
   "cell_type": "markdown",
   "metadata": {},
   "source": [
    "Objective: To emulate sklearn.linear_model.Lasso() using numpy"
   ]
  },
  {
   "cell_type": "markdown",
   "metadata": {},
   "source": [
    "The data that will be used in this notebook will be the mystery.dat file from the UCSanDiego ML course on edX. Use the [link here](https://courses.edx.org/courses/course-v1:UCSanDiegoX+DSE220x+1T2019/courseware/bcbbed9cb9dc4157ba9e7e608dddb0ac/0290999d30f74caab3c9e5fb955d29fc/1?activate_block_id=block-v1%3AUCSanDiegoX%2BDSE220x%2B1T2019%2Btype%40vertical%2Bblock%4015741288db67451991e67be793b369d0) to navigate to the file and download it.\n",
    "\n",
    "Before you start running codes on this notebook, place the mystery.dat file in the same directory."
   ]
  },
  {
   "cell_type": "markdown",
   "metadata": {},
   "source": [
    "## 1. Set up notebook and load data set"
   ]
  },
  {
   "cell_type": "code",
   "execution_count": 1,
   "metadata": {},
   "outputs": [],
   "source": [
    "import numpy as np\n",
    "\n",
    "data = np.genfromtxt('mystery.dat', delimiter = ',')\n",
    "\n"
   ]
  },
  {
   "cell_type": "markdown",
   "metadata": {},
   "source": [
    "## 2. Refresher on Lasso Regression"
   ]
  },
  {
   "cell_type": "markdown",
   "metadata": {},
   "source": [
    "The lasso regression loss function is from the edX course is defined as"
   ]
  },
  {
   "cell_type": "markdown",
   "metadata": {},
   "source": [
    "\\begin{equation*}\n",
    "L(w,b) = \\left(\\sum_{i=1}^n (y^{(i)} - (w \\cdot x^{(i)} + b))^2\\right) + λ||w||_1\n",
    "\\end{equation*}\n",
    "\n",
    "$$||w||_1  = |w_1| + |w_2| + |w_3| + ... $$"
   ]
  },
  {
   "cell_type": "markdown",
   "metadata": {},
   "source": [
    "**The goal is to minimise this loss function by adjusting the weights i.e. the vector w.**"
   ]
  },
  {
   "cell_type": "markdown",
   "metadata": {},
   "source": [
    "From scikit-learn's description in Section 1.1.3 [here](https://scikit-learn.org/stable/modules/linear_model.html), the lasso regression loss function is defined as "
   ]
  },
  {
   "cell_type": "markdown",
   "metadata": {},
   "source": [
    "$$ \\frac{1}{2N}||y - Xw||^2_2 + α||w||_1 $$"
   ]
  },
  {
   "cell_type": "markdown",
   "metadata": {},
   "source": [
    "The equation above can be re-written as follows to aid understanding\n",
    "\n",
    "$$ L(w) = \\frac{1}{2N}\\left(\\sum_{i=1}^n (y^{(i)} - \\tilde{w} \\cdot \\tilde{x}^{(i)})^2\\right) + α\\left(\\sum_{j=1}^d |w_j|\\right)$$"
   ]
  },
  {
   "cell_type": "markdown",
   "metadata": {},
   "source": [
    "$$\\tilde{w} = [w_0, w_1, w_2, ..., w_d]$$\n",
    "$$\\tilde{x} = [1, x_1, x_2, ..., x_d]$$"
   ]
  },
  {
   "cell_type": "markdown",
   "metadata": {},
   "source": [
    "Note that $w_{0}$ will be the intercept which is b in the loss function from the edX course. Besides that, α is the equivalent to λ.\n",
    "\n",
    "The difference between the edX's loss function and scikit's is the appearance of 1/2N in front of the first summation term. N represents the number of observations/samples i.e. number of rows in the dataset.\n",
    "\n",
    "**This loss function is optimised using coordinate descent**"
   ]
  },
  {
   "cell_type": "markdown",
   "metadata": {},
   "source": [
    "## 3. Deriving the coordinate descent used in lasso regression"
   ]
  },
  {
   "cell_type": "markdown",
   "metadata": {},
   "source": [
    "Coordinate descent is an optimisation algorithm which goal is to minimise some function. The diagram below best describes what coordinate descent does:\n",
    "\n",
    "![Coordinate Descent Illustration](coordinate_descent.png)\n",
    "Source: Machine Learning Course from University of Washington on Coursera"
   ]
  },
  {
   "cell_type": "markdown",
   "metadata": {},
   "source": [
    "From the illustration above, the contours represent the value of the loss function where the value at the center is the lowest (imagine a convex function). Coordinate descent works by choosing one feature to optimise while keeping the other features the same.\n",
    "\n",
    "**Coordinate descent**:\n",
    "\n",
    "Initialise w = 0\n",
    ">while not converged \n",
    ">>pick a coordinate j, update j by minimising the loss function by altering the value of j"
   ]
  },
  {
   "cell_type": "markdown",
   "metadata": {},
   "source": [
    "When assessing the convergence, it is up to the user to set how small of the step size it wants the coordinate descent to take to be considered as a convergence.\n",
    "\n",
    "Note from the illustration above that the coordinate descent takes smaller and smaller steps to reach the minimum value of the cost function.\n",
    "\n",
    "We can measure the maximum step size taken during each iteration of the descent, and when the maximum step size is lower than a tolerance level (set by the user), we say that the coordinate descent has converged. "
   ]
  },
  {
   "cell_type": "markdown",
   "metadata": {},
   "source": [
    "#### Deriving the partial derivative of the MSE term in the loss function\n"
   ]
  },
  {
   "cell_type": "markdown",
   "metadata": {},
   "source": [
    "Ignoring the regulariser term α, let the focus be on the mean square error (MSE) of the loss function\n",
    "\n",
    "$$ L(w) = \\frac{1}{2N}\\left(\\sum_{i=1}^n (y^{(i)} - \\tilde{w} \\cdot \\tilde{x}^{(i)})^2\\right) $$"
   ]
  },
  {
   "cell_type": "markdown",
   "metadata": {},
   "source": [
    "Partially differentiating the above equation with $w_j$ yields:\n",
    "\n",
    "$$ \\frac{𝜕L(w)}{𝜕w_j} = \\frac{1}{2N}\\left(\\sum_{i=1}^n 2(y^{(i)} - \\tilde{w} \\cdot \\tilde{x}^{(i)})(-x_j)\\right) $$\n",
    "\n",
    "To apply coordinate descent, the $\\tilde{w} \\cdot \\tilde{x}^{(i)}$ is rewritten: \n",
    "\n",
    "$$ \\tilde{w} \\cdot \\tilde{x}^{(i)} = \\left(\\sum_{k≠j}^n \\tilde{w}_k \\cdot \\tilde{x}^{(i)}_k\\right) + \\tilde{w}_j\\tilde{x}^{(i)}_j $$\n",
    "\n",
    "Expanding/Summarising the partial differential equation:\n",
    "\n",
    "$$ \\frac{𝜕L(w)}{𝜕w_j} = \\frac{1}{N}\\left(\\sum_{i=1}^n (-\\tilde{x}^{(i)}_j)(y^{(i)} - \\left(\\sum_{k≠j}^n \\tilde{w}_k \\cdot \\tilde{x}^{(i)}_k\\right)) \\right) + \\frac{1}{N}\\tilde{w}_j\\left(\\sum_{i=1}^n \\tilde{x}^{(i)}_j \\right)^2    $$"
   ]
  },
  {
   "cell_type": "markdown",
   "metadata": {},
   "source": [
    "Let us define the terms $ρ_j$ and $z_j$:\n",
    "\n",
    "$$ ρ_j = \\left(\\sum_{i=1}^n (\\tilde{x}^{(i)}_j)(y^{(i)} - \\left(\\sum_{k≠j}^n \\tilde{w}_k \\cdot \\tilde{x}^{(i)}_k\\right)) \\right)$$\n",
    "\n",
    "$$ z_j = \\left(\\sum_{i=1}^n \\tilde{x}^{(i)}_j \\right)^2$$\n",
    "\n"
   ]
  },
  {
   "cell_type": "markdown",
   "metadata": {},
   "source": [
    "Therefore, the final partial derivative equation is: \n",
    "\n",
    "$$ \\frac{𝜕L(w)}{𝜕w_j} = \\frac{-1}{N}ρ_j + \\frac{1}{N}\\tilde{w}_jz_j$$"
   ]
  },
  {
   "cell_type": "markdown",
   "metadata": {},
   "source": [
    "To minimise the loss function, the partial derivative of the loss function is set to 0.\n",
    "\n",
    "Hence, the optimum solution for the MSE part of the loss functions is:\n",
    "\n",
    "$$ w_j = \\frac{ρ_j}{z_j}$$"
   ]
  },
  {
   "cell_type": "markdown",
   "metadata": {},
   "source": [
    "#### Deriving the partial derivative of the regulariser term in the loss function"
   ]
  },
  {
   "cell_type": "markdown",
   "metadata": {},
   "source": [
    "To partially differentiate the regularise term in the loss function, let's first look at the graph of $|w_j|$\n",
    "\n",
    "![w_j modulus](w_j_modulus.png)"
   ]
  },
  {
   "cell_type": "markdown",
   "metadata": {},
   "source": [
    "No derivative exists at $|w_j| = 0$!! Or rather, there is no gradient for the sharp point of that graph. \n",
    "\n",
    "From here, we have to look into sub-gradients of $|w_j|$:\n",
    "![subgradient](subgradient.png)\n",
    "\n",
    "The sub-gradients of $|w_j|$ are annotated by V which is between -1 and 1.\n",
    "\n",
    "To better understand subgradients, refer to [this video at time 4:11](https://www.coursera.org/lecture/ml-regression/deriving-the-lasso-coordinate-descent-update-6OLyn)"
   ]
  },
  {
   "cell_type": "markdown",
   "metadata": {},
   "source": [
    "Hence, the partial derivations of the regulariser term in the loss function are :\n",
    "\n",
    "$$ \n",
    "α𝜕_{w_j}\\left(\\sum_{j=1}^d |w_j|\\right) = α\\frac{𝜕|w_j|}{𝜕w_j} = \n",
    "    \\begin{cases}\n",
    "        -α & \\text{when $w_j$ < 0}\\\\\n",
    "        [-α,α] & \\text{when $w_j$ = 0}\\\\\n",
    "        α & \\text{when $w_j$ > 0}\\\\\n",
    "    \\end{cases}\n",
    "$$\n"
   ]
  },
  {
   "cell_type": "markdown",
   "metadata": {},
   "source": [
    "#### Solving the partial derivation of the total Lasso regression loss function"
   ]
  },
  {
   "cell_type": "markdown",
   "metadata": {},
   "source": [
    "The partial derivative of the rewritten loss function in section 2 is:\n",
    "\n",
    "$$\n",
    "\\frac{𝜕L(w)}{𝜕w_j} = \\frac{-1}{N}ρ_j + \\frac{1}{N}\\tilde{w}_jz_j + \n",
    "    \\begin{cases}\n",
    "        -α & \\text{when $w_j$ < 0}\\\\\n",
    "        [-α,α] & \\text{when $w_j$ = 0}\\\\\n",
    "        α & \\text{when $w_j$ > 0}\\\\\n",
    "    \\end{cases}\n",
    "$$"
   ]
  },
  {
   "cell_type": "markdown",
   "metadata": {},
   "source": [
    "When setting the partial derivative to 0, there are 3 cases to consider:\n",
    "\n",
    "**Case 1 :** $w_j$ < 0\n",
    "$$\n",
    "\\frac{-1}{N}ρ_j + \\frac{1}{N}\\tilde{w}_jz_j - α = 0\n",
    "$$\n",
    "\n",
    "$$\n",
    "w_j = \\frac{ρ_j + Nα}{z_j}\n",
    "$$\n",
    "\n",
    "For $w_j$ < 0\n",
    "$$\n",
    "ρ_j < -Nα\n",
    "$$\n",
    "\n",
    "**Case 2 :** $w_j$ = 0\n",
    "$$\n",
    "\\frac{-1}{N}ρ_j + \\frac{1}{N}\\tilde{w}_jz_j + [-α,α] = 0\n",
    "$$\n",
    "\n",
    "$$\n",
    "w_j = [\\frac{ρ_j - Nα}{z_j},\\frac{ρ_j + Nα}{z_j}]\n",
    "$$\n",
    "\n",
    "For $w_j$ = 0, need $[\\frac{ρ_j - Nα}{z_j},\\frac{ρ_j + Nα}{z_j}]$ to contain 0, hence\n",
    "$$\n",
    "-Nα ≤ ρ_j ≤ Nα \n",
    "$$\n",
    "\n",
    "**Case 3 :** $w_j$ > 0\n",
    "$$\n",
    "\\frac{-1}{N}ρ_j + \\frac{1}{N}\\tilde{w}_jz_j + α = 0\n",
    "$$\n",
    "\n",
    "$$\n",
    "w_j = \\frac{ρ_j - Nα}{z_j}\n",
    "$$\n",
    "\n",
    "For $w_j$ > 0\n",
    "$$\n",
    "ρ_j > Nα\n",
    "$$"
   ]
  },
  {
   "cell_type": "markdown",
   "metadata": {},
   "source": [
    "Note that $w_0$ is not part of the regulariser term, hence it is updated using the MSE partial derivative term, therefore:\n",
    "\n",
    "$$ w_0 = \\frac{ρ_0}{z_0}$$"
   ]
  },
  {
   "cell_type": "markdown",
   "metadata": {},
   "source": [
    "## 4. The coordinate descent algorithm used here"
   ]
  },
  {
   "cell_type": "markdown",
   "metadata": {},
   "source": [
    "1. Pre-compute:\n",
    "$$ z_j = \\left(\\sum_{i=1}^n \\tilde{x}^{(i)}_j \\right)^2$$\n",
    "\n",
    "2. Initialise the $\\tilde{w}$ to be a zero vector\n",
    "\n",
    "3. Initialise the maximum step parameter and tolerance level\n",
    "> Can just set the maximum step to any large value at the beginning\n",
    "\n",
    "4. While the algorithm has not converged\n",
    "> For j = 0,1,...,D\n",
    ">> Compute:\n",
    "$$ ρ_j = \\left(\\sum_{i=1}^n (\\tilde{x}^{(i)}_j)(y^{(i)} - \\left(\\sum_{k≠j}^n \\tilde{w}_k \\cdot \\tilde{x}^{(i)}_k\\right)) \\right)$$\n",
    ">> If j = 0\n",
    "$$ w_j = \\frac{ρ_j}{z_j}$$\n",
    ">> Else\n",
    "$$ w_j = \n",
    "    \\begin{cases}\n",
    "        \\frac{ρ_j + Nα}{z_j} & \\text{if $ρ_j$ < -Nα}\\\\\n",
    "        0 & \\text{if -Nα ≤ $ρ_j$ ≤ Nα }\\\\\n",
    "        \\frac{ρ_j - Nα}{z_j} & \\text{if $ρ_j$ > Nα}\\\\\n",
    "    \\end{cases}\n",
    "$$"
   ]
  },
  {
   "cell_type": "markdown",
   "metadata": {},
   "source": [
    "## 5. numpy coding to perform LASSO regression on mystery.dat"
   ]
  },
  {
   "cell_type": "code",
   "execution_count": 2,
   "metadata": {},
   "outputs": [],
   "source": [
    "#Create a function to get the output\n",
    "def predicted_values(X, w):\n",
    "    # X will be n x (d+1)\n",
    "    # w will be (d+1) x 1\n",
    "    predictions = np.matmul(X,w) # n x 1\n",
    "    return(predictions)"
   ]
  },
  {
   "cell_type": "code",
   "execution_count": 3,
   "metadata": {},
   "outputs": [],
   "source": [
    "#rho computation\n",
    "def rho_compute(y,X,w,j):\n",
    "    #y is the response variable\n",
    "    #X is the predictor variables matrix\n",
    "    #w is the weight vector\n",
    "    #j is the feature selector\n",
    "    X_k = np.delete(X,j,1) #Remove the j variable i.e. j column\n",
    "    w_k = np.delete(w,j) #Remove the weight j\n",
    "    predict_k = predicted_values(X_k, w_k)\n",
    "    residual = y - predict_k\n",
    "    rho_j = np.sum(X[:,j]*residual)\n",
    "    return(rho_j)"
   ]
  },
  {
   "cell_type": "code",
   "execution_count": 4,
   "metadata": {},
   "outputs": [],
   "source": [
    "#z computation for unnormalised features\n",
    "def z_compute(X):\n",
    "    z_vector = np.sum(X*X, axis = 0) #Compute sum for each column\n",
    "    return(z_vector)"
   ]
  },
  {
   "cell_type": "code",
   "execution_count": 5,
   "metadata": {},
   "outputs": [],
   "source": [
    "def coordinate_descent(y,X,w,alpha,z,tolerance):\n",
    "    max_step = 100.\n",
    "    iteration = 0\n",
    "    while(max_step > tolerance):\n",
    "        iteration += 1\n",
    "        #print(\"Iteration (start) : \",iteration)\n",
    "        old_weights = np.copy(w)\n",
    "        #print(\"\\nOld Weights\\n\",old_weights)\n",
    "        for j in range(len(w)): #Take the number of features ie columns\n",
    "            rho_j = rho_compute(y,X,w,j)\n",
    "            if j == 0: #Intercept is not included with the alpha regularisation\n",
    "                w[j] = rho_j/z[j]\n",
    "            elif rho_j < -alpha*len(y):\n",
    "                w[j] = (rho_j + (alpha*len(y)))/z[j]\n",
    "            elif rho_j > -alpha*len(y) and rho_j < alpha*len(y):\n",
    "                w[j] = 0.\n",
    "            elif rho_j > alpha*len(y):\n",
    "                w[j] = (rho_j - (alpha*len(y)))/z[j]\n",
    "            else:\n",
    "                w[j] = np.NaN\n",
    "        #print(\"\\nNew Weights\\n\",w)\n",
    "        step_sizes = abs(old_weights - w)\n",
    "        #print(\"\\nStep sizes\\n\",step_sizes)\n",
    "        max_step = step_sizes.max()\n",
    "        #print(\"\\nMax step:\",max_step)\n",
    "        \n",
    "        \n",
    "    return(w, iteration, max_step)"
   ]
  },
  {
   "cell_type": "code",
   "execution_count": 6,
   "metadata": {},
   "outputs": [],
   "source": [
    "#Initialise the data\n",
    "\n",
    "#101 rows for both input (x) and output (y)\n",
    "x = data[:,0:100] # 100 predictors - columns 0 to 99\n",
    "y = data[:,100] # 1 response variable - column 100\n",
    "\n",
    "#Obtain feature matrix by adding column of 1s to input matrix x\n",
    "X = np.column_stack((np.ones((x.shape[0],1)),x)) #101 columns\n",
    "\n",
    "#Initialise weight/parameter vector, w, to be a zero vector\n",
    "w = np.zeros(X.shape[1], dtype = float)\n",
    "\n",
    "#Pre-compute the z_j term\n",
    "z = z_compute(X)\n",
    "\n",
    "#Set the alpha and tolerance level\n",
    "alpha = 0.1\n",
    "tolerance = 0.0001\n",
    "\n",
    "#Obtain the following from the coordinate descent:\n",
    "#1. Optimum weight parameter\n",
    "#2. Number of iterations\n",
    "#3. Maximum step size at the last iteration\n",
    "\n",
    "w_opt, iterations, max_step = coordinate_descent(y,X,w,alpha,z,tolerance)"
   ]
  },
  {
   "cell_type": "code",
   "execution_count": 7,
   "metadata": {},
   "outputs": [
    {
     "name": "stdout",
     "output_type": "stream",
     "text": [
      "Intercept is: -0.12284593210597963\n",
      "\n",
      "Coefficients are:\n",
      " [ 0.     0.836  0.666  0.     1.009 -0.031  0.888 -0.229  0.     0.\n",
      "  0.887  0.     0.702  0.    -0.116 -0.079  0.86   0.     0.779  0.039\n",
      "  0.04   0.     0.841  0.    -0.013  0.     0.     0.     0.547  0.\n",
      "  0.     0.     0.     0.     0.     0.    -0.037  0.     0.     0.\n",
      "  0.     0.     0.    -0.065  0.     0.     0.    -0.004  0.047  0.017\n",
      "  0.     0.     0.     0.013 -0.033  0.086  0.062 -0.044  0.     0.\n",
      "  0.     0.     0.     0.     0.     0.     0.    -0.042  0.     0.097\n",
      "  0.     0.     0.017  0.     0.     0.011  0.     0.075  0.     0.\n",
      "  0.15   0.     0.     0.     0.     0.     0.     0.     0.    -0.068\n",
      "  0.     0.078  0.     0.     0.     0.     0.     0.    -0.059  0.   ]\n",
      "\n",
      "Number of iterations is: 17\n"
     ]
    }
   ],
   "source": [
    "#Print out the optimised weights\n",
    "np.set_printoptions(precision = 3, suppress = True)\n",
    "print(\"Intercept is:\",w_opt[0])\n",
    "print(\"\\nCoefficients are:\\n\",w_opt[1:101])\n",
    "print(\"\\nNumber of iterations is:\",iterations)"
   ]
  },
  {
   "cell_type": "code",
   "execution_count": 8,
   "metadata": {},
   "outputs": [
    {
     "name": "stdout",
     "output_type": "stream",
     "text": [
      "[[  5.      1.009]\n",
      " [  7.      0.888]\n",
      " [ 11.      0.887]\n",
      " [ 17.      0.86 ]\n",
      " [ 23.      0.841]\n",
      " [  2.      0.836]\n",
      " [ 19.      0.779]\n",
      " [ 13.      0.702]\n",
      " [  3.      0.666]\n",
      " [ 29.      0.547]\n",
      " [  8.      0.229]\n",
      " [ 81.      0.15 ]\n",
      " [ 15.      0.116]\n",
      " [ 70.      0.097]\n",
      " [ 56.      0.086]\n",
      " [ 16.      0.079]\n",
      " [ 92.      0.078]\n",
      " [ 78.      0.075]\n",
      " [ 90.      0.068]\n",
      " [ 44.      0.065]\n",
      " [ 57.      0.062]\n",
      " [ 99.      0.059]\n",
      " [ 49.      0.047]\n",
      " [ 58.      0.044]\n",
      " [ 68.      0.042]\n",
      " [ 21.      0.04 ]\n",
      " [ 20.      0.039]\n",
      " [ 37.      0.037]\n",
      " [ 55.      0.033]\n",
      " [  6.      0.031]\n",
      " [ 50.      0.017]\n",
      " [ 73.      0.017]\n",
      " [ 25.      0.013]\n",
      " [ 54.      0.013]\n",
      " [ 76.      0.011]\n",
      " [ 48.      0.004]\n",
      " [ 24.      0.   ]\n",
      " [  4.      0.   ]\n",
      " [ 39.      0.   ]\n",
      " [ 38.      0.   ]\n",
      " [  9.      0.   ]\n",
      " [ 10.      0.   ]\n",
      " [ 12.      0.   ]\n",
      " [ 36.      0.   ]\n",
      " [ 35.      0.   ]\n",
      " [ 34.      0.   ]\n",
      " [ 18.      0.   ]\n",
      " [ 14.      0.   ]\n",
      " [ 41.      0.   ]\n",
      " [ 33.      0.   ]\n",
      " [ 32.      0.   ]\n",
      " [ 31.      0.   ]\n",
      " [ 30.      0.   ]\n",
      " [ 22.      0.   ]\n",
      " [ 28.      0.   ]\n",
      " [ 27.      0.   ]\n",
      " [ 26.      0.   ]\n",
      " [ 40.      0.   ]\n",
      " [100.      0.   ]\n",
      " [ 42.      0.   ]\n",
      " [ 75.      0.   ]\n",
      " [ 79.      0.   ]\n",
      " [ 80.      0.   ]\n",
      " [ 82.      0.   ]\n",
      " [ 83.      0.   ]\n",
      " [ 84.      0.   ]\n",
      " [ 85.      0.   ]\n",
      " [ 86.      0.   ]\n",
      " [ 87.      0.   ]\n",
      " [ 88.      0.   ]\n",
      " [ 89.      0.   ]\n",
      " [ 91.      0.   ]\n",
      " [ 93.      0.   ]\n",
      " [ 94.      0.   ]\n",
      " [ 95.      0.   ]\n",
      " [ 96.      0.   ]\n",
      " [ 97.      0.   ]\n",
      " [ 98.      0.   ]\n",
      " [ 77.      0.   ]\n",
      " [ 74.      0.   ]\n",
      " [ 43.      0.   ]\n",
      " [ 72.      0.   ]\n",
      " [ 45.      0.   ]\n",
      " [ 46.      0.   ]\n",
      " [ 47.      0.   ]\n",
      " [ 51.      0.   ]\n",
      " [ 52.      0.   ]\n",
      " [ 53.      0.   ]\n",
      " [ 59.      0.   ]\n",
      " [ 60.      0.   ]\n",
      " [ 61.      0.   ]\n",
      " [ 62.      0.   ]\n",
      " [ 63.      0.   ]\n",
      " [ 64.      0.   ]\n",
      " [ 65.      0.   ]\n",
      " [ 66.      0.   ]\n",
      " [ 67.      0.   ]\n",
      " [ 69.      0.   ]\n",
      " [ 71.      0.   ]\n",
      " [  1.      0.   ]]\n"
     ]
    }
   ],
   "source": [
    "#Sort to see which are the most important features\n",
    "values = np.sort(abs(w_opt[1:101]))[::-1] \n",
    "index = np.argsort(abs(w_opt[1:101]))[::-1] + 1 #Add 1 to not show zero-index\n",
    "\n",
    "np.set_printoptions(precision = 3, suppress = True)\n",
    "print(np.column_stack((index,values)))"
   ]
  },
  {
   "cell_type": "code",
   "execution_count": 9,
   "metadata": {},
   "outputs": [
    {
     "name": "stdout",
     "output_type": "stream",
     "text": [
      "sklearn Lasso intercept : -0.12281129097551671\n",
      "\n",
      "sklearn Lasso coefficients :\n",
      " [ 0.     0.836  0.666  0.     1.009 -0.031  0.888 -0.229 -0.    -0.\n",
      "  0.887 -0.     0.702 -0.    -0.116 -0.079  0.86  -0.     0.779  0.039\n",
      "  0.04   0.     0.841 -0.    -0.013 -0.     0.    -0.     0.547  0.\n",
      " -0.     0.     0.    -0.    -0.    -0.    -0.037  0.    -0.     0.\n",
      " -0.     0.    -0.    -0.065  0.     0.    -0.    -0.004  0.047  0.017\n",
      " -0.     0.     0.     0.013 -0.033  0.086  0.062 -0.044  0.     0.\n",
      "  0.     0.     0.     0.    -0.     0.     0.    -0.042  0.     0.097\n",
      "  0.     0.     0.017  0.    -0.     0.011 -0.     0.075  0.    -0.\n",
      "  0.15   0.    -0.     0.    -0.    -0.    -0.     0.    -0.    -0.068\n",
      "  0.     0.078  0.    -0.    -0.     0.     0.    -0.    -0.059  0.   ]\n",
      "\n",
      "sklearn Lasso number of iterations : 16\n"
     ]
    }
   ],
   "source": [
    "#Compare with sklearn's Lasso\n",
    "from sklearn import linear_model\n",
    "mystery = linear_model.Lasso(alpha = 0.1, tol = 0.0001) #alpha is just the regulariser term\n",
    "mystery.fit(x,y)\n",
    "\n",
    "print(\"sklearn Lasso intercept :\",mystery.intercept_)\n",
    "print(\"\\nsklearn Lasso coefficients :\\n\",mystery.coef_)\n",
    "print(\"\\nsklearn Lasso number of iterations :\",mystery.n_iter_)"
   ]
  },
  {
   "cell_type": "code",
   "execution_count": 10,
   "metadata": {},
   "outputs": [
    {
     "name": "stdout",
     "output_type": "stream",
     "text": [
      "[[  5.      1.009]\n",
      " [  7.      0.888]\n",
      " [ 11.      0.887]\n",
      " [ 17.      0.86 ]\n",
      " [ 23.      0.841]\n",
      " [  2.      0.836]\n",
      " [ 19.      0.779]\n",
      " [ 13.      0.702]\n",
      " [  3.      0.666]\n",
      " [ 29.      0.547]\n",
      " [  8.      0.229]\n",
      " [ 81.      0.15 ]\n",
      " [ 15.      0.116]\n",
      " [ 70.      0.097]\n",
      " [ 56.      0.086]\n",
      " [ 16.      0.079]\n",
      " [ 92.      0.078]\n",
      " [ 78.      0.075]\n",
      " [ 90.      0.068]\n",
      " [ 44.      0.065]\n",
      " [ 57.      0.062]\n",
      " [ 99.      0.059]\n",
      " [ 49.      0.047]\n",
      " [ 58.      0.044]\n",
      " [ 68.      0.042]\n",
      " [ 21.      0.04 ]\n",
      " [ 20.      0.039]\n",
      " [ 37.      0.037]\n",
      " [ 55.      0.033]\n",
      " [  6.      0.031]\n",
      " [ 50.      0.017]\n",
      " [ 73.      0.017]\n",
      " [ 25.      0.013]\n",
      " [ 54.      0.013]\n",
      " [ 76.      0.011]\n",
      " [ 48.      0.004]\n",
      " [ 24.      0.   ]\n",
      " [  4.      0.   ]\n",
      " [ 39.      0.   ]\n",
      " [ 38.      0.   ]\n",
      " [  9.      0.   ]\n",
      " [ 10.      0.   ]\n",
      " [ 12.      0.   ]\n",
      " [ 36.      0.   ]\n",
      " [ 35.      0.   ]\n",
      " [ 34.      0.   ]\n",
      " [ 18.      0.   ]\n",
      " [ 14.      0.   ]\n",
      " [ 41.      0.   ]\n",
      " [ 33.      0.   ]\n",
      " [ 32.      0.   ]\n",
      " [ 31.      0.   ]\n",
      " [ 30.      0.   ]\n",
      " [ 22.      0.   ]\n",
      " [ 28.      0.   ]\n",
      " [ 27.      0.   ]\n",
      " [ 26.      0.   ]\n",
      " [ 40.      0.   ]\n",
      " [100.      0.   ]\n",
      " [ 42.      0.   ]\n",
      " [ 75.      0.   ]\n",
      " [ 79.      0.   ]\n",
      " [ 80.      0.   ]\n",
      " [ 82.      0.   ]\n",
      " [ 83.      0.   ]\n",
      " [ 84.      0.   ]\n",
      " [ 85.      0.   ]\n",
      " [ 86.      0.   ]\n",
      " [ 87.      0.   ]\n",
      " [ 88.      0.   ]\n",
      " [ 89.      0.   ]\n",
      " [ 91.      0.   ]\n",
      " [ 93.      0.   ]\n",
      " [ 94.      0.   ]\n",
      " [ 95.      0.   ]\n",
      " [ 96.      0.   ]\n",
      " [ 97.      0.   ]\n",
      " [ 98.      0.   ]\n",
      " [ 77.      0.   ]\n",
      " [ 74.      0.   ]\n",
      " [ 43.      0.   ]\n",
      " [ 72.      0.   ]\n",
      " [ 45.      0.   ]\n",
      " [ 46.      0.   ]\n",
      " [ 47.      0.   ]\n",
      " [ 51.      0.   ]\n",
      " [ 52.      0.   ]\n",
      " [ 53.      0.   ]\n",
      " [ 59.      0.   ]\n",
      " [ 60.      0.   ]\n",
      " [ 61.      0.   ]\n",
      " [ 62.      0.   ]\n",
      " [ 63.      0.   ]\n",
      " [ 64.      0.   ]\n",
      " [ 65.      0.   ]\n",
      " [ 66.      0.   ]\n",
      " [ 67.      0.   ]\n",
      " [ 69.      0.   ]\n",
      " [ 71.      0.   ]\n",
      " [  1.      0.   ]]\n"
     ]
    }
   ],
   "source": [
    "values = np.sort(abs(mystery.coef_))[::-1]\n",
    "index = np.argsort(abs(mystery.coef_))[::-1] + 1\n",
    "\n",
    "np.set_printoptions(precision = 3, suppress = True)\n",
    "print(np.column_stack((index,values)))"
   ]
  },
  {
   "cell_type": "code",
   "execution_count": 11,
   "metadata": {},
   "outputs": [
    {
     "name": "stdout",
     "output_type": "stream",
     "text": [
      "sklearn Lasso intercept : -0.12281129097551671\n",
      "\n",
      "sklearn Lasso coefficients :\n",
      " [ 0.     0.836  0.666  0.     1.009 -0.031  0.888 -0.229 -0.    -0.\n",
      "  0.887 -0.     0.702 -0.    -0.116 -0.079  0.86  -0.     0.779  0.039\n",
      "  0.04   0.     0.841 -0.    -0.013 -0.     0.    -0.     0.547  0.\n",
      " -0.     0.     0.    -0.    -0.    -0.    -0.037  0.    -0.     0.\n",
      " -0.     0.    -0.    -0.065  0.     0.    -0.    -0.004  0.047  0.017\n",
      " -0.     0.     0.     0.013 -0.033  0.086  0.062 -0.044  0.     0.\n",
      "  0.     0.     0.     0.    -0.     0.     0.    -0.042  0.     0.097\n",
      "  0.     0.     0.017  0.    -0.     0.011 -0.     0.075  0.    -0.\n",
      "  0.15   0.    -0.     0.    -0.    -0.    -0.     0.    -0.    -0.068\n",
      "  0.     0.078  0.    -0.    -0.     0.     0.    -0.    -0.059  0.   ]\n",
      "\n",
      "sklearn Lasso number of iterations : 16\n",
      "\n",
      "------------------------------------------------------------------------\n",
      "\n",
      "Intercept is: -0.12284593210597963\n",
      "\n",
      "Coefficients are:\n",
      " [ 0.     0.836  0.666  0.     1.009 -0.031  0.888 -0.229  0.     0.\n",
      "  0.887  0.     0.702  0.    -0.116 -0.079  0.86   0.     0.779  0.039\n",
      "  0.04   0.     0.841  0.    -0.013  0.     0.     0.     0.547  0.\n",
      "  0.     0.     0.     0.     0.     0.    -0.037  0.     0.     0.\n",
      "  0.     0.     0.    -0.065  0.     0.     0.    -0.004  0.047  0.017\n",
      "  0.     0.     0.     0.013 -0.033  0.086  0.062 -0.044  0.     0.\n",
      "  0.     0.     0.     0.     0.     0.     0.    -0.042  0.     0.097\n",
      "  0.     0.     0.017  0.     0.     0.011  0.     0.075  0.     0.\n",
      "  0.15   0.     0.     0.     0.     0.     0.     0.     0.    -0.068\n",
      "  0.     0.078  0.     0.     0.     0.     0.     0.    -0.059  0.   ]\n",
      "\n",
      "Number of iterations is: 17\n"
     ]
    }
   ],
   "source": [
    "#Comparison within the same cell\n",
    "\n",
    "print(\"sklearn Lasso intercept :\",mystery.intercept_)\n",
    "print(\"\\nsklearn Lasso coefficients :\\n\",mystery.coef_)\n",
    "print(\"\\nsklearn Lasso number of iterations :\",mystery.n_iter_)\n",
    "print(\"\\n------------------------------------------------------------------------\\n\")\n",
    "print(\"Intercept is:\",w_opt[0])\n",
    "print(\"\\nCoefficients are:\\n\",w_opt[1:101])\n",
    "print(\"\\nNumber of iterations is:\",iterations)"
   ]
  },
  {
   "cell_type": "code",
   "execution_count": 12,
   "metadata": {},
   "outputs": [
    {
     "data": {
      "text/plain": [
       "array([ 0.   ,  0.836,  0.666,  0.   ,  1.009, -0.031,  0.888, -0.229,\n",
       "        0.   ,  0.   ,  0.887,  0.   ,  0.702,  0.   , -0.116, -0.079,\n",
       "        0.86 ,  0.   ,  0.779,  0.039,  0.04 ,  0.   ,  0.841,  0.   ,\n",
       "       -0.013,  0.   ,  0.   ,  0.   ,  0.547,  0.   ,  0.   ,  0.   ,\n",
       "        0.   ,  0.   ,  0.   ,  0.   , -0.037,  0.   ,  0.   ,  0.   ,\n",
       "        0.   ,  0.   ,  0.   , -0.065,  0.   ,  0.   ,  0.   , -0.004,\n",
       "        0.047,  0.017,  0.   ,  0.   ,  0.   ,  0.013, -0.033,  0.086,\n",
       "        0.062, -0.044,  0.   ,  0.   ,  0.   ,  0.   ,  0.   ,  0.   ,\n",
       "        0.   ,  0.   ,  0.   , -0.042,  0.   ,  0.097,  0.   ,  0.   ,\n",
       "        0.017,  0.   ,  0.   ,  0.011,  0.   ,  0.075,  0.   ,  0.   ,\n",
       "        0.15 ,  0.   ,  0.   ,  0.   ,  0.   ,  0.   ,  0.   ,  0.   ,\n",
       "        0.   , -0.068,  0.   ,  0.078,  0.   ,  0.   ,  0.   ,  0.   ,\n",
       "        0.   ,  0.   , -0.059,  0.   ])"
      ]
     },
     "execution_count": 12,
     "metadata": {},
     "output_type": "execute_result"
    }
   ],
   "source": [
    "w_opt[1:101]"
   ]
  },
  {
   "cell_type": "code",
   "execution_count": 13,
   "metadata": {},
   "outputs": [
    {
     "name": "stdout",
     "output_type": "stream",
     "text": [
      "Values are compared to sklearn's Lasso results:\n",
      "Maximum difference in coefficients (%): 0.11279634972984848\n",
      "Average difference in coefficients (%): 0.007858722135127718\n",
      "Difference in intercept (%): 0.028206796124165913\n"
     ]
    }
   ],
   "source": [
    "print(\"Values are compared to sklearn's Lasso results:\")\n",
    "np.set_printoptions(precision = 10, suppress = False)\n",
    "error = np.zeros(len(w_opt[1:101]), dtype = float)\n",
    "for j in range(len(w_opt[1:101])):\n",
    "    if(w_opt[1:101][j] == 0 and mystery.coef_[j] == 0):\n",
    "        error[j] = 0.\n",
    "    else:\n",
    "        error[j] = abs(((w_opt[1:101][j] - mystery.coef_[j])/mystery.coef_[j])*100)\n",
    "\n",
    "print(\"Maximum difference in coefficients (%):\",np.max(error))\n",
    "print(\"Average difference in coefficients (%):\",np.mean(error))\n",
    "\n",
    "intercept_diff = abs(((w_opt[0] - mystery.intercept_)/mystery.intercept_)*100)\n",
    "print(\"Difference in intercept (%):\",intercept_diff)\n",
    "\n"
   ]
  },
  {
   "cell_type": "markdown",
   "metadata": {},
   "source": [
    "## 6. Conclusion"
   ]
  },
  {
   "cell_type": "markdown",
   "metadata": {},
   "source": [
    "Attempt to emulate sklearn.linear_model.Lasso() function using numpy only is rather successful. Using sklearn.linear_model.Lasso(), the coding in numpy managed to replicate with results with very minimal error. \n"
   ]
  }
 ],
 "metadata": {
  "kernelspec": {
   "display_name": "Python 3",
   "language": "python",
   "name": "python3"
  },
  "language_info": {
   "codemirror_mode": {
    "name": "ipython",
    "version": 3
   },
   "file_extension": ".py",
   "mimetype": "text/x-python",
   "name": "python",
   "nbconvert_exporter": "python",
   "pygments_lexer": "ipython3",
   "version": "3.7.0"
  }
 },
 "nbformat": 4,
 "nbformat_minor": 2
}
